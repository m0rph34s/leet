{
 "cells": [
  {
   "cell_type": "code",
   "execution_count": 61,
   "id": "82d09cd6",
   "metadata": {},
   "outputs": [],
   "source": [
    "strs = [\"flower\",\"flow\",\"flight\"]"
   ]
  },
  {
   "cell_type": "code",
   "execution_count": 33,
   "id": "ffb26e3a",
   "metadata": {},
   "outputs": [],
   "source": [
    "strs = [\"flower\",\"flow\",\"\"]"
   ]
  },
  {
   "cell_type": "code",
   "execution_count": 64,
   "id": "acd265ba",
   "metadata": {},
   "outputs": [],
   "source": [
    "strs = [\"flower\",\"flower\",\"flower\",\"flower\"]"
   ]
  },
  {
   "cell_type": "code",
   "execution_count": 43,
   "id": "ad90099e",
   "metadata": {},
   "outputs": [],
   "source": [
    "strs = [\"a\"]"
   ]
  },
  {
   "cell_type": "code",
   "execution_count": 65,
   "id": "d5c31552",
   "metadata": {},
   "outputs": [],
   "source": [
    "def find_common_prefix(strs):\n",
    "    if \"\" in strs:\n",
    "        return \"\"\n",
    "    elif len(strs) ==1:\n",
    "        return strs[0]\n",
    "    else:\n",
    "        for (i, j) in enumerate(strs[0]):\n",
    "            print(i, j)\n",
    "            for k in range(1,len(strs)):\n",
    "                print(k, \" \", strs[k])\n",
    "                if(i < len(strs[k])):\n",
    "                    if (j != strs[k][i]):\n",
    "                        print(\"mismatch, last good index was \", i-1)\n",
    "                        #return(i-1)\n",
    "                        return strs[0][0:i]\n",
    "                else:\n",
    "                    print(\"index past length of current word\")\n",
    "                    #return(i-1)\n",
    "                    return strs[0][0:i]\n",
    "        return strs[0]\n",
    "\n"
   ]
  },
  {
   "cell_type": "code",
   "execution_count": 66,
   "id": "60670644",
   "metadata": {},
   "outputs": [
    {
     "name": "stdout",
     "output_type": "stream",
     "text": [
      "0 f\n",
      "1   flower\n",
      "2   flower\n",
      "3   flower\n",
      "1 l\n",
      "1   flower\n",
      "2   flower\n",
      "3   flower\n",
      "2 o\n",
      "1   flower\n",
      "2   flower\n",
      "3   flower\n",
      "3 w\n",
      "1   flower\n",
      "2   flower\n",
      "3   flower\n",
      "4 e\n",
      "1   flower\n",
      "2   flower\n",
      "3   flower\n",
      "5 r\n",
      "1   flower\n",
      "2   flower\n",
      "3   flower\n"
     ]
    },
    {
     "data": {
      "text/plain": [
       "'flower'"
      ]
     },
     "execution_count": 66,
     "metadata": {},
     "output_type": "execute_result"
    }
   ],
   "source": [
    "find_common_prefix(strs)"
   ]
  },
  {
   "cell_type": "code",
   "execution_count": null,
   "id": "f60bec34",
   "metadata": {},
   "outputs": [],
   "source": []
  }
 ],
 "metadata": {
  "kernelspec": {
   "display_name": "Python 3 (ipykernel)",
   "language": "python",
   "name": "python3"
  },
  "language_info": {
   "codemirror_mode": {
    "name": "ipython",
    "version": 3
   },
   "file_extension": ".py",
   "mimetype": "text/x-python",
   "name": "python",
   "nbconvert_exporter": "python",
   "pygments_lexer": "ipython3",
   "version": "3.8.10"
  }
 },
 "nbformat": 4,
 "nbformat_minor": 5
}

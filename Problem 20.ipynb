{
 "cells": [
  {
   "cell_type": "code",
   "execution_count": 170,
   "id": "a7faeedd",
   "metadata": {},
   "outputs": [],
   "source": [
    "s = \"()\""
   ]
  },
  {
   "cell_type": "code",
   "execution_count": 173,
   "id": "ada05b29",
   "metadata": {},
   "outputs": [],
   "source": [
    "s = \"()[]{}\""
   ]
  },
  {
   "cell_type": "code",
   "execution_count": 175,
   "id": "f60aa2e5",
   "metadata": {},
   "outputs": [],
   "source": [
    "s = \"(]\""
   ]
  },
  {
   "cell_type": "code",
   "execution_count": 179,
   "id": "4e826474",
   "metadata": {},
   "outputs": [],
   "source": [
    "s =\"([)]\""
   ]
  },
  {
   "cell_type": "code",
   "execution_count": 182,
   "id": "c8e26f55",
   "metadata": {},
   "outputs": [],
   "source": [
    "s = \"{[]}\""
   ]
  },
  {
   "cell_type": "code",
   "execution_count": 185,
   "id": "e146c92f",
   "metadata": {},
   "outputs": [],
   "source": [
    "s = \"((\""
   ]
  },
  {
   "cell_type": "code",
   "execution_count": 192,
   "id": "2e900c28",
   "metadata": {},
   "outputs": [],
   "source": [
    "def isValid(s: str) -> bool:\n",
    "    brace_dict = {\n",
    "        \"(\" : \")\",\n",
    "        \"[\" : \"]\",\n",
    "        \"{\" : \"}\"\n",
    "    }\n",
    "    i=0\n",
    "    to_close = []\n",
    "    for i in range(len(s)):\n",
    "        if s[i] in brace_dict.keys(): # if its opening brace\n",
    "            to_close.append(s[i])\n",
    "        else: # if its closing brace\n",
    "            if (to_close == []): # if list is empty, nothing to close\n",
    "                return False\n",
    "            elif (brace_dict[to_close[-1]] == s[i]):\n",
    "                to_close.pop()\n",
    "            else: # parens mismatched\n",
    "                return False\n",
    "    return not to_close"
   ]
  },
  {
   "cell_type": "code",
   "execution_count": 193,
   "id": "ccf98f61",
   "metadata": {},
   "outputs": [
    {
     "data": {
      "text/plain": [
       "False"
      ]
     },
     "execution_count": 193,
     "metadata": {},
     "output_type": "execute_result"
    }
   ],
   "source": [
    "isValid(s)"
   ]
  },
  {
   "cell_type": "code",
   "execution_count": 167,
   "id": "35a4f85e",
   "metadata": {},
   "outputs": [
    {
     "data": {
      "text/plain": [
       "False"
      ]
     },
     "execution_count": 167,
     "metadata": {},
     "output_type": "execute_result"
    }
   ],
   "source": [
    "isValid(s)"
   ]
  },
  {
   "cell_type": "code",
   "execution_count": 187,
   "id": "c1ce0a73",
   "metadata": {},
   "outputs": [],
   "source": [
    "to_close =[\"(\",\"[\"]"
   ]
  },
  {
   "cell_type": "code",
   "execution_count": 191,
   "id": "a5614f69",
   "metadata": {},
   "outputs": [
    {
     "data": {
      "text/plain": [
       "False"
      ]
     },
     "execution_count": 191,
     "metadata": {},
     "output_type": "execute_result"
    }
   ],
   "source": [
    "not to_close"
   ]
  },
  {
   "cell_type": "code",
   "execution_count": null,
   "id": "ee6c26cc",
   "metadata": {},
   "outputs": [],
   "source": []
  }
 ],
 "metadata": {
  "kernelspec": {
   "display_name": "Python 3 (ipykernel)",
   "language": "python",
   "name": "python3"
  },
  "language_info": {
   "codemirror_mode": {
    "name": "ipython",
    "version": 3
   },
   "file_extension": ".py",
   "mimetype": "text/x-python",
   "name": "python",
   "nbconvert_exporter": "python",
   "pygments_lexer": "ipython3",
   "version": "3.8.10"
  }
 },
 "nbformat": 4,
 "nbformat_minor": 5
}

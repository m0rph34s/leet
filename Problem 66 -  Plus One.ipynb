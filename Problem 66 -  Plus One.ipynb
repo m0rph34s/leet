{
 "cells": [
  {
   "cell_type": "code",
   "execution_count": 7,
   "id": "7d69c111",
   "metadata": {},
   "outputs": [],
   "source": [
    "digits = [1,2,3]"
   ]
  },
  {
   "cell_type": "code",
   "execution_count": 27,
   "id": "644bc6f8",
   "metadata": {},
   "outputs": [],
   "source": [
    "def plusOne(digits): \n",
    "    sum_list = 0\n",
    "    # convert list input to an integer\n",
    "    size = len(digits)\n",
    "    for i in range(len(digits)):\n",
    "        sum_list += digits[size-1] * 10**i\n",
    "        size -=1\n",
    "    sum_list +=1\n",
    "    \n",
    "    # convert integer output to a list\n",
    "    out = []\n",
    "    while sum_list >0:\n",
    "        out.append(sum_list%10)\n",
    "        sum_list = sum_list // 10\n",
    "    out.reverse()\n",
    "    return out"
   ]
  },
  {
   "cell_type": "code",
   "execution_count": 29,
   "id": "22cc27b2",
   "metadata": {},
   "outputs": [
    {
     "name": "stdout",
     "output_type": "stream",
     "text": [
      "[1, 2, 4]\n"
     ]
    }
   ],
   "source": [
    "print(plusOne(digits))"
   ]
  },
  {
   "cell_type": "code",
   "execution_count": null,
   "id": "3e41e999",
   "metadata": {},
   "outputs": [],
   "source": []
  }
 ],
 "metadata": {
  "kernelspec": {
   "display_name": "Python 3 (ipykernel)",
   "language": "python",
   "name": "python3"
  },
  "language_info": {
   "codemirror_mode": {
    "name": "ipython",
    "version": 3
   },
   "file_extension": ".py",
   "mimetype": "text/x-python",
   "name": "python",
   "nbconvert_exporter": "python",
   "pygments_lexer": "ipython3",
   "version": "3.11.5"
  }
 },
 "nbformat": 4,
 "nbformat_minor": 5
}

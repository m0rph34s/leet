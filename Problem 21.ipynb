{
 "cells": [
  {
   "cell_type": "code",
   "execution_count": 47,
   "id": "244232bb",
   "metadata": {},
   "outputs": [],
   "source": [
    "list1 = [1,2,4]\n",
    "list2 = [1,3,4]\n",
    "# list1 = ListNode{val: 1, next: ListNode{val: 2, next: ListNode{val: 4, next: None}}}"
   ]
  },
  {
   "cell_type": "code",
   "execution_count": 31,
   "id": "1629964c",
   "metadata": {},
   "outputs": [],
   "source": [
    "list1 = []\n",
    "list2 = []"
   ]
  },
  {
   "cell_type": "code",
   "execution_count": 39,
   "id": "3bb52392",
   "metadata": {},
   "outputs": [],
   "source": [
    "list1 = []\n",
    "list2 = [0]"
   ]
  },
  {
   "cell_type": "code",
   "execution_count": 12,
   "id": "8c449ad4",
   "metadata": {},
   "outputs": [],
   "source": [
    "#Definition for singly-linked list.\n",
    "class ListNode:\n",
    "    def __init__(self, val=0, next=None):\n",
    "        self.val = val\n",
    "        self.next = next\n",
    "\n"
   ]
  },
  {
   "cell_type": "code",
   "execution_count": 48,
   "id": "cd2a548d",
   "metadata": {},
   "outputs": [],
   "source": [
    "def populate(in_list):\n",
    "        # creating the head node\n",
    "        head = None\n",
    "        if in_list:\n",
    "            curr = ListNode(in_list[0])\n",
    "            head = curr\n",
    "            # iterating over input list\n",
    "            for i in in_list[1:]:\n",
    "              temp = ListNode(i)\n",
    "              curr.next = temp\n",
    "              curr = temp\n",
    "        \n",
    "        return head"
   ]
  },
  {
   "cell_type": "code",
   "execution_count": 49,
   "id": "b998ce78",
   "metadata": {},
   "outputs": [],
   "source": [
    "l1 = populate(list1)\n",
    "l2 = populate(list2)"
   ]
  },
  {
   "cell_type": "code",
   "execution_count": 50,
   "id": "0dd583b9",
   "metadata": {},
   "outputs": [
    {
     "name": "stdout",
     "output_type": "stream",
     "text": [
      "<__main__.ListNode object at 0x000002168B2DDD50>\n"
     ]
    }
   ],
   "source": [
    "print(l1)"
   ]
  },
  {
   "cell_type": "code",
   "execution_count": 76,
   "id": "eb2688b3",
   "metadata": {},
   "outputs": [],
   "source": [
    "def mergeTwoLists(list1=None, list2=None):\n",
    "    print(list1)\n",
    "    print(list2)\n",
    "    if not list1 and not list2:\n",
    "        return None\n",
    "    if not list1 or not list2:\n",
    "        return list1 if not list2 else list2\n",
    "    \n",
    "    out_head = idx = ListNode() # our dummy node\n",
    "        \n",
    "    while(list1 and list2):\n",
    "        if(list1.val < list2.val):\n",
    "            print(\"list1! val is \", list1.val)\n",
    "            idx.next = ListNode(list1.val)\n",
    "            idx = idx.next # attach new node\n",
    "            list1 = list1.next # move pointer in original list\n",
    "        else:\n",
    "            print(\"list2! val is \", list2.val)\n",
    "            idx.next = ListNode(list2.val)\n",
    "            idx = idx.next # attach a new node\n",
    "            list2 = list2.next\n",
    "    if list1 or list2:\n",
    "#         print(\"Get the remainder\")\n",
    "#         if list1:\n",
    "# #             print('list1 attached')\n",
    "#             print_linked_list(list1)\n",
    "#         else: \n",
    "# #             print('list2 attached')\n",
    "        idx.next = list1 if list1 else list2\n",
    "    return out_head.next\n",
    "    "
   ]
  },
  {
   "cell_type": "code",
   "execution_count": 77,
   "id": "9d8fb7a4",
   "metadata": {},
   "outputs": [
    {
     "name": "stdout",
     "output_type": "stream",
     "text": [
      "<__main__.ListNode object at 0x000002168B2DDD50>\n",
      "<__main__.ListNode object at 0x000002168BF8DDD0>\n",
      "list2! val is  1\n",
      "list1! val is  1\n",
      "list1! val is  2\n",
      "list2! val is  3\n",
      "list2! val is  4\n"
     ]
    }
   ],
   "source": [
    "ans = mergeTwoLists(l1,l2)"
   ]
  },
  {
   "cell_type": "code",
   "execution_count": 78,
   "id": "4037a959",
   "metadata": {},
   "outputs": [],
   "source": [
    "def print_linked_list(lp):\n",
    "    while lp is not None:\n",
    "       print(lp.val)\n",
    "       lp = lp.next  "
   ]
  },
  {
   "cell_type": "code",
   "execution_count": 79,
   "id": "ad73cdfc",
   "metadata": {},
   "outputs": [
    {
     "name": "stdout",
     "output_type": "stream",
     "text": [
      "1\n",
      "1\n",
      "2\n",
      "3\n",
      "4\n",
      "4\n"
     ]
    }
   ],
   "source": [
    "print_linked_list(ans)"
   ]
  },
  {
   "cell_type": "code",
   "execution_count": null,
   "id": "3cbeb924",
   "metadata": {},
   "outputs": [],
   "source": []
  },
  {
   "cell_type": "code",
   "execution_count": null,
   "id": "929f59c0",
   "metadata": {},
   "outputs": [],
   "source": []
  }
 ],
 "metadata": {
  "kernelspec": {
   "display_name": "Python 3 (ipykernel)",
   "language": "python",
   "name": "python3"
  },
  "language_info": {
   "codemirror_mode": {
    "name": "ipython",
    "version": 3
   },
   "file_extension": ".py",
   "mimetype": "text/x-python",
   "name": "python",
   "nbconvert_exporter": "python",
   "pygments_lexer": "ipython3",
   "version": "3.11.5"
  }
 },
 "nbformat": 4,
 "nbformat_minor": 5
}
